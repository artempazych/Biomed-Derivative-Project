{
 "cells": [
  {
   "cell_type": "code",
   "execution_count": 98,
   "metadata": {},
   "outputs": [
    {
     "ename": "ModuleNotFoundError",
     "evalue": "No module named 'biomed'",
     "output_type": "error",
     "traceback": [
      "\u001b[1;31m---------------------------------------------------------------------------\u001b[0m",
      "\u001b[1;31mModuleNotFoundError\u001b[0m                       Traceback (most recent call last)",
      "\u001b[1;32m~\\AppData\\Local\\Temp\\ipykernel_17392\\4217884338.py\u001b[0m in \u001b[0;36m<module>\u001b[1;34m\u001b[0m\n\u001b[0;32m      2\u001b[0m \u001b[1;32mimport\u001b[0m \u001b[0mnumpy\u001b[0m \u001b[1;32mas\u001b[0m \u001b[0mnp\u001b[0m\u001b[1;33m\u001b[0m\u001b[1;33m\u001b[0m\u001b[0m\n\u001b[0;32m      3\u001b[0m \u001b[1;32mimport\u001b[0m \u001b[0mmath\u001b[0m\u001b[1;33m\u001b[0m\u001b[1;33m\u001b[0m\u001b[0m\n\u001b[1;32m----> 4\u001b[1;33m \u001b[1;32mimport\u001b[0m \u001b[0mbiomed\u001b[0m\u001b[1;33m.\u001b[0m\u001b[0muniversal_stat_tests\u001b[0m\u001b[1;33m\u001b[0m\u001b[1;33m\u001b[0m\u001b[0m\n\u001b[0m",
      "\u001b[1;31mModuleNotFoundError\u001b[0m: No module named 'biomed'"
     ]
    }
   ],
   "source": [
    "import pandas as pd\n",
    "import numpy as np\n",
    "import math"
   ]
  },
  {
   "cell_type": "code",
   "execution_count": 88,
   "metadata": {},
   "outputs": [],
   "source": [
    "real = pd.read_csv('../datasets/real_data.csv')\n",
    "fake_ctgan = pd.read_csv('../synCleanData/synCleanData_ctgan.csv')\n",
    "fake_tvae = pd.read_csv('../synCleanData/synCleanData_tvae.csv')"
   ]
  },
  {
   "cell_type": "code",
   "execution_count": 89,
   "metadata": {},
   "outputs": [
    {
     "name": "stdout",
     "output_type": "stream",
     "text": [
      "(668, 35) (668, 36)\n"
     ]
    }
   ],
   "source": [
    "print(real.shape, fake_ctgan.shape)"
   ]
  },
  {
   "cell_type": "code",
   "execution_count": 90,
   "metadata": {},
   "outputs": [
    {
     "name": "stdout",
     "output_type": "stream",
     "text": [
      "Index(['Unnamed: 0', 'Unnamed: 0.1', 'Age', 'Number of sexual partners',\n",
      "       'First sexual intercourse', 'Num of pregnancies', 'Smokes',\n",
      "       'Smokes (years)', 'Smokes (packs/year)', 'Hormonal Contraceptives',\n",
      "       'Hormonal Contraceptives (years)', 'IUD', 'IUD (years)', 'STDs',\n",
      "       'STDs (number)', 'STDs:condylomatosis', 'STDs:cervical condylomatosis',\n",
      "       'STDs:vaginal condylomatosis', 'STDs:vulvo-perineal condylomatosis',\n",
      "       'STDs:syphilis', 'STDs:pelvic inflammatory disease',\n",
      "       'STDs:genital herpes', 'STDs:molluscum contagiosum', 'STDs:AIDS',\n",
      "       'STDs:HIV', 'STDs:Hepatitis B', 'STDs:HPV', 'STDs: Number of diagnosis',\n",
      "       'Dx:Cancer', 'Dx:CIN', 'Dx:HPV', 'Dx', 'Hinselmann', 'Schiller',\n",
      "       'Citology', 'Biopsy'],\n",
      "      dtype='object')\n"
     ]
    }
   ],
   "source": [
    "print(fake_ctgan.columns)"
   ]
  },
  {
   "cell_type": "code",
   "execution_count": 91,
   "metadata": {},
   "outputs": [],
   "source": [
    "real.drop('Unnamed: 0', axis=1, inplace=True)\n",
    "fake_ctgan.drop('Unnamed: 0', axis=1, inplace=True)\n",
    "fake_ctgan.drop('Unnamed: 0.1', axis=1, inplace=True)\n",
    "fake_tvae.drop('Unnamed: 0', axis=1, inplace=True)\n",
    "fake_tvae.drop('Unnamed: 0.1', axis=1, inplace=True)"
   ]
  },
  {
   "cell_type": "code",
   "execution_count": 92,
   "metadata": {},
   "outputs": [],
   "source": [
    "real_age_prob = real['Age']/real['Age'].sum()"
   ]
  },
  {
   "cell_type": "code",
   "execution_count": 93,
   "metadata": {},
   "outputs": [],
   "source": [
    "fake_ctgan_age_prob = fake_ctgan['Age']/fake_ctgan['Age'].sum()"
   ]
  },
  {
   "cell_type": "code",
   "execution_count": 94,
   "metadata": {},
   "outputs": [],
   "source": [
    "fake_tvae_age_prob = fake_tvae['Age']/fake_tvae['Age'].sum()"
   ]
  },
  {
   "cell_type": "code",
   "execution_count": 95,
   "metadata": {},
   "outputs": [],
   "source": [
    "# calculate the kl divergence\n",
    "def kl_divergence(p, q):\n",
    "\treturn sum(p[i] * math.log2(p[i]/q[i]) for i in range(len(p)))"
   ]
  },
  {
   "cell_type": "markdown",
   "metadata": {},
   "source": [
    "intuition behind the KL_divergence test is to measure the difference in probability distribution of two datasets, where P is \"true\" distribution, and Q is \"fake\" distribution"
   ]
  },
  {
   "cell_type": "code",
   "execution_count": 96,
   "metadata": {},
   "outputs": [
    {
     "name": "stdout",
     "output_type": "stream",
     "text": [
      "KL(Real || CTGAN): 0.162 bits\n",
      "KL(Real || TVAE): 0.126 bits\n"
     ]
    }
   ],
   "source": [
    "kl_ctgan = kl_divergence(real_age_prob, fake_ctgan_age_prob)\n",
    "kl_tvae = kl_divergence(real_age_prob, fake_tvae_age_prob)\n",
    "print('KL(Real || CTGAN): %.3f bits' % kl_ctgan)\n",
    "print('KL(Real || TVAE): %.3f bits' % kl_tvae)"
   ]
  },
  {
   "cell_type": "code",
   "execution_count": null,
   "metadata": {},
   "outputs": [],
   "source": []
  }
 ],
 "metadata": {
  "interpreter": {
   "hash": "5f71dd86c0594fcb865b5956a899e199808b5362b189b8cf9adaa9e2d9bbf475"
  },
  "kernelspec": {
   "display_name": "Python 3.7.9 ('tests': venv)",
   "language": "python",
   "name": "python3"
  },
  "language_info": {
   "codemirror_mode": {
    "name": "ipython",
    "version": 3
   },
   "file_extension": ".py",
   "mimetype": "text/x-python",
   "name": "python",
   "nbconvert_exporter": "python",
   "pygments_lexer": "ipython3",
   "version": "3.7.9"
  },
  "orig_nbformat": 4
 },
 "nbformat": 4,
 "nbformat_minor": 2
}
