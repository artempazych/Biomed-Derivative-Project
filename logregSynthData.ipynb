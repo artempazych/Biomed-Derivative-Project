{
 "cells": [
  {
   "cell_type": "markdown",
   "metadata": {},
   "source": [
    "### Logistic Regression on Synthtic Datasets"
   ]
  },
  {
   "cell_type": "code",
   "execution_count": null,
   "metadata": {},
   "outputs": [],
   "source": [
    "from sklearn.linear_model import LogisticRegression\n",
    "import pandas as pd\n",
    "from joblib import dump, load"
   ]
  },
  {
   "cell_type": "markdown",
   "metadata": {},
   "source": [
    "#### Loading data"
   ]
  },
  {
   "cell_type": "code",
   "execution_count": null,
   "metadata": {},
   "outputs": [],
   "source": [
    "real = pd.read_csv('real_data.csv')\n",
    "\n",
    "gauscop_668 = pd.read_csv('syntheticData/gauscop_668.csv')\n",
    "\n",
    "ctgan_668 = pd.read_csv('syntheticData/ctgan_668.csv')\n",
    "\n",
    "tvae_668 = pd.read_csv('syntheticData/tvae_668.csv')\n",
    "\n",
    "synthpop_668 = pd.read_csv('syntheticData/synthpop_668.csv')"
   ]
  }
 ],
 "metadata": {
  "language_info": {
   "name": "python"
  },
  "orig_nbformat": 4
 },
 "nbformat": 4,
 "nbformat_minor": 2
}
