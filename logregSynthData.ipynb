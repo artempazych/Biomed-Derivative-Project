{
 "cells": [
  {
   "cell_type": "markdown",
   "metadata": {},
   "source": [
    "### Logistic Regression on Synthtic Datasets"
   ]
  },
  {
   "cell_type": "code",
   "execution_count": 80,
   "metadata": {},
   "outputs": [],
   "source": [
    "from sklearn.linear_model import LogisticRegression\n",
    "import pandas as pd\n",
    "from joblib import dump, load"
   ]
  },
  {
   "cell_type": "markdown",
   "metadata": {},
   "source": [
    "#### Loading data"
   ]
  },
  {
   "cell_type": "code",
   "execution_count": 81,
   "metadata": {},
   "outputs": [],
   "source": [
    "real = pd.read_csv('datasets/clean/real.csv')\n",
    "\n",
    "gauscop_668 = pd.read_csv('syntheticData/gauscop_668.csv')\n",
    "gauscop_5000 = pd.read_csv('syntheticData/gauscop_5000.csv')\n",
    "\n",
    "ctgan_668 = pd.read_csv('syntheticData/ctgan_668.csv')\n",
    "ctgan_5000 = pd.read_csv('syntheticData/ctgan_5000.csv')\n",
    "\n",
    "tvae_668 = pd.read_csv('syntheticData/tvae_668.csv')\n",
    "tvae_5000 = pd.read_csv('syntheticData/tvae_5000.csv')\n",
    "\n",
    "synthpop_668 = pd.read_csv('syntheticData/synthpop_668.csv')\n",
    "synthpop_5000 = pd.read_csv('syntheticData/synthpop_5000.csv')\n",
    "\n",
    "syn1 = pd.read_csv('datasets/clean/syn1.csv')\n",
    "syn2 = pd.read_csv('datasets/clean/syn2.csv')\n",
    "syn3 = pd.read_csv('datasets/clean/syn3.csv')\n",
    "syn4 = pd.read_csv('datasets/clean/syn4.csv')\n",
    "syn9 = pd.read_csv('datasets/clean/syn9.csv')"
   ]
  },
  {
   "cell_type": "code",
   "execution_count": 82,
   "metadata": {},
   "outputs": [],
   "source": [
    "real_X, real_y = real[real.columns[:-1]], real['Biopsy']\n",
    "\n",
    "gauscop_668_X, gauscop_668_y = gauscop_668[gauscop_668.columns[:-1]], gauscop_668['Biopsy']\n",
    "gauscop_5000_X, gauscop_5000_y = gauscop_5000[gauscop_5000.columns[:-1]], gauscop_5000['Biopsy']\n",
    "\n",
    "ctgan_668_X, ctgan_668_y = ctgan_668[ctgan_668.columns[:-1]], ctgan_668['Biopsy']\n",
    "ctgan_5000_X, ctgan_5000_y = ctgan_5000[ctgan_5000.columns[:-1]], ctgan_5000['Biopsy']\n",
    "\n",
    "tvae_668_X, tvae_668_y = tvae_668[tvae_668.columns[:-1]], tvae_668['Biopsy']\n",
    "tvae_5000_X, tvae_5000_y = tvae_5000[tvae_5000.columns[:-1]], tvae_5000['Biopsy']\n",
    "\n",
    "synthpop_668_X, synthpop_668_y = synthpop_668[synthpop_668.columns[:-1]], synthpop_668['Biopsy']\n",
    "synthpop_5000_X, synthpop_5000_y = synthpop_5000[synthpop_5000.columns[:-1]], synthpop_5000['Biopsy']\n",
    "\n",
    "syn1_X, syn1_y = syn1[syn1.columns[:-1]], syn1['Biopsy']\n",
    "\n",
    "syn2_X, syn2_y = syn2[syn2.columns[:-1]], syn2['Biopsy']\n",
    "\n",
    "syn3_X, syn3_y = syn3[syn1.columns[:-1]], syn3['Biopsy']\n",
    "\n",
    "syn4_X, syn4_y = syn4[syn1.columns[:-1]], syn4['Biopsy']\n",
    "\n",
    "syn9_X, syn9_y = syn4[syn1.columns[:-1]], syn9['Biopsy']"
   ]
  },
  {
   "cell_type": "code",
   "execution_count": 83,
   "metadata": {},
   "outputs": [
    {
     "data": {
      "text/plain": [
       "0   -0.0\n",
       "1   -0.0\n",
       "2   -0.0\n",
       "3   -0.0\n",
       "4   -0.0\n",
       "Name: Biopsy, dtype: float64"
      ]
     },
     "execution_count": 83,
     "metadata": {},
     "output_type": "execute_result"
    }
   ],
   "source": [
    "syn1_y.head()"
   ]
  },
  {
   "cell_type": "markdown",
   "metadata": {},
   "source": [
    "#### LogReg"
   ]
  },
  {
   "cell_type": "code",
   "execution_count": 84,
   "metadata": {},
   "outputs": [],
   "source": [
    "real = LogisticRegression(max_iter=1000)\n",
    "clf = LogisticRegression(max_iter=1000)"
   ]
  },
  {
   "cell_type": "code",
   "execution_count": 85,
   "metadata": {},
   "outputs": [
    {
     "name": "stdout",
     "output_type": "stream",
     "text": [
      "[[-5.87755625 -5.78425924 -5.80999422 -5.9466193  -5.57254348 -5.8859273\n",
      "  -5.86418358 -5.99347343 -5.81853969 -5.75201124 -5.85629898 -5.13239166\n",
      "  -5.85492476 -5.81062476 -5.87844618 -5.98550609 -5.79435421 -6.74468121\n",
      "  -5.90037794 -4.92269705 -5.8952584  -5.87844618 -5.75274044 -5.90820928\n",
      "  -6.04649102 -6.0563872  -5.5564832  -5.03352692 -5.48096268 -5.13071068\n",
      "  -4.95070715 -2.0404561  -5.02311069]]\n"
     ]
    }
   ],
   "source": [
    "real.fit(real_X, real_y)\n",
    "real_coef = real.coef_+ real.intercept_\n",
    "print(real_coef)"
   ]
  },
  {
   "cell_type": "code",
   "execution_count": 86,
   "metadata": {},
   "outputs": [
    {
     "name": "stdout",
     "output_type": "stream",
     "text": [
      "603.0438783065546\n",
      "0.9491017964071856\n"
     ]
    }
   ],
   "source": [
    "clf.fit(gauscop_668_X, gauscop_668_y)\n",
    "gauscop_668_coef = clf.coef_ + clf.intercept_\n",
    "\n",
    "squared_diff = ((real_coef-gauscop_668_coef)**2).sum()\n",
    "print(squared_diff)\n",
    "\n",
    "print(real.score(gauscop_668_X, gauscop_668_y))"
   ]
  },
  {
   "cell_type": "code",
   "execution_count": 87,
   "metadata": {},
   "outputs": [
    {
     "name": "stdout",
     "output_type": "stream",
     "text": [
      "42.75139005578039\n",
      "0.9564\n"
     ]
    }
   ],
   "source": [
    "clf.fit(gauscop_5000_X, gauscop_5000_y)\n",
    "gauscop_5000_coef = clf.coef_ + clf.intercept_\n",
    "\n",
    "squared_diff = ((real_coef-gauscop_5000_coef)**2).sum()\n",
    "print(squared_diff)\n",
    "\n",
    "print(real.score(gauscop_5000_X, gauscop_5000_y))"
   ]
  },
  {
   "cell_type": "code",
   "execution_count": 88,
   "metadata": {},
   "outputs": [
    {
     "name": "stdout",
     "output_type": "stream",
     "text": [
      "350.27754735400157\n",
      "0.8263473053892215\n"
     ]
    }
   ],
   "source": [
    "clf.fit(ctgan_668_X, ctgan_668_y)\n",
    "ctgan_668_coef = clf.coef_ + clf.intercept_\n",
    "\n",
    "squared_diff = ((real_coef-ctgan_668_coef)**2).sum()\n",
    "print(squared_diff)\n",
    "\n",
    "print(real.score(ctgan_668_X, ctgan_668_y))"
   ]
  },
  {
   "cell_type": "code",
   "execution_count": 89,
   "metadata": {},
   "outputs": [
    {
     "name": "stdout",
     "output_type": "stream",
     "text": [
      "353.67153340740924\n",
      "0.8428\n"
     ]
    }
   ],
   "source": [
    "clf.fit(ctgan_5000_X, ctgan_5000_y)\n",
    "ctgan_5000_coef = clf.coef_ + clf.intercept_\n",
    "\n",
    "squared_diff = ((real_coef-ctgan_5000_coef)**2).sum()\n",
    "print(squared_diff)\n",
    "\n",
    "print(real.score(ctgan_5000_X, ctgan_5000_y))"
   ]
  },
  {
   "cell_type": "code",
   "execution_count": 90,
   "metadata": {},
   "outputs": [],
   "source": [
    "# clf.fit(tvae_668_X, tvae_668_y)\n",
    "# tvae_668_coef = clf.coef_ + clf.intercept_\n",
    "\n",
    "# squared_diff = ((real_coef-tvae_668_coef)**2).sum()\n",
    "# print(squared_diff)\n",
    "\n",
    "# print(real.score(tvae_668_X, tvae_668_y))"
   ]
  },
  {
   "cell_type": "code",
   "execution_count": 91,
   "metadata": {},
   "outputs": [],
   "source": [
    "# clf.fit(tvae_5000_X, tvae_5000_y)\n",
    "# tvae_5000_coef = clf.coef_ + clf.intercept_\n",
    "\n",
    "# squared_diff = ((real_coef-tvae_5000_coef)**2).sum()\n",
    "# print(squared_diff)\n",
    "\n",
    "# print(real.score(tvae_5000_X, tvae_5000_y))"
   ]
  },
  {
   "cell_type": "code",
   "execution_count": 92,
   "metadata": {},
   "outputs": [
    {
     "name": "stdout",
     "output_type": "stream",
     "text": [
      "48.2252019658037\n",
      "0.9491017964071856\n"
     ]
    }
   ],
   "source": [
    "clf.fit(synthpop_668_X, synthpop_668_y)\n",
    "synthpop_668_coef = clf.coef_ + clf.intercept_\n",
    "\n",
    "squared_diff = ((real_coef-synthpop_668_coef)**2).sum()\n",
    "print(squared_diff)\n",
    "\n",
    "print(real.score(synthpop_668_X, synthpop_668_y))"
   ]
  },
  {
   "cell_type": "code",
   "execution_count": 93,
   "metadata": {},
   "outputs": [
    {
     "name": "stdout",
     "output_type": "stream",
     "text": [
      "88.81824272976552\n",
      "0.9604\n"
     ]
    }
   ],
   "source": [
    "clf.fit(synthpop_5000_X, synthpop_5000_y)\n",
    "synthpop_5000_coef = clf.coef_ + clf.intercept_\n",
    "\n",
    "squared_diff = ((real_coef-synthpop_5000_coef)**2).sum()\n",
    "print(squared_diff)\n",
    "\n",
    "print(real.score(synthpop_5000_X, synthpop_5000_y))"
   ]
  },
  {
   "cell_type": "code",
   "execution_count": 94,
   "metadata": {},
   "outputs": [],
   "source": [
    "# clf.fit(syn1_X, syn1_y)\n",
    "# print(clf.coef_, clf.intercept_)\n",
    "# syn1_coef = clf.coef_ + clf.intercept_\n",
    "\n",
    "# squared_diff = ((real_coef-syn1_coef)**2).sum()\n",
    "# print(squared_diff)\n",
    "\n",
    "# print(real.score(syn1_X, syn1_y))"
   ]
  },
  {
   "cell_type": "code",
   "execution_count": 95,
   "metadata": {},
   "outputs": [],
   "source": [
    "# clf.fit(syn2_X, syn2_y)\n",
    "# print(clf.coef_, clf.intercept_)\n",
    "# syn2_coef = clf.coef_ + clf.intercept_\n",
    "\n",
    "# squared_diff = ((real_coef-syn2_coef)**2).sum()\n",
    "# print(squared_diff)\n",
    "\n",
    "# print(real.score(syn2_X, syn2_y))"
   ]
  },
  {
   "cell_type": "code",
   "execution_count": 96,
   "metadata": {},
   "outputs": [],
   "source": [
    "# clf.fit(syn3_X, syn3_y)\n",
    "# print(clf.coef_, clf.intercept_)\n",
    "# syn3_coef = clf.coef_ + clf.intercept_\n",
    "\n",
    "# squared_diff = ((real_coef-syn3_coef)**2).sum()\n",
    "# print(squared_diff)\n",
    "\n",
    "# print(real.score(syn3_X, syn3_y))"
   ]
  },
  {
   "cell_type": "code",
   "execution_count": 97,
   "metadata": {},
   "outputs": [],
   "source": [
    "# clf.fit(syn4_X, syn4_y)\n",
    "# print(clf.coef_, clf.intercept_)\n",
    "# syn4_coef = clf.coef_ + clf.intercept_\n",
    "\n",
    "# squared_diff = ((real_coef-syn4_coef)**2).sum()\n",
    "# print(squared_diff)\n",
    "\n",
    "# print(real.score(syn4_X, syn4_y))"
   ]
  },
  {
   "cell_type": "code",
   "execution_count": 98,
   "metadata": {},
   "outputs": [
    {
     "ename": "ValueError",
     "evalue": "This solver needs samples of at least 2 classes in the data, but the data contains only one class: 0",
     "output_type": "error",
     "traceback": [
      "\u001b[1;31m---------------------------------------------------------------------------\u001b[0m",
      "\u001b[1;31mValueError\u001b[0m                                Traceback (most recent call last)",
      "\u001b[1;32m~\\AppData\\Local\\Temp\\ipykernel_1180\\3503473766.py\u001b[0m in \u001b[0;36m<module>\u001b[1;34m\u001b[0m\n\u001b[1;32m----> 1\u001b[1;33m \u001b[0mclf\u001b[0m\u001b[1;33m.\u001b[0m\u001b[0mfit\u001b[0m\u001b[1;33m(\u001b[0m\u001b[0msyn9_X\u001b[0m\u001b[1;33m,\u001b[0m \u001b[0msyn9_y\u001b[0m\u001b[1;33m)\u001b[0m\u001b[1;33m\u001b[0m\u001b[1;33m\u001b[0m\u001b[0m\n\u001b[0m\u001b[0;32m      2\u001b[0m \u001b[0mprint\u001b[0m\u001b[1;33m(\u001b[0m\u001b[0mclf\u001b[0m\u001b[1;33m.\u001b[0m\u001b[0mcoef_\u001b[0m\u001b[1;33m,\u001b[0m \u001b[0mclf\u001b[0m\u001b[1;33m.\u001b[0m\u001b[0mintercept_\u001b[0m\u001b[1;33m)\u001b[0m\u001b[1;33m\u001b[0m\u001b[1;33m\u001b[0m\u001b[0m\n\u001b[0;32m      3\u001b[0m \u001b[0msyn9_coef\u001b[0m \u001b[1;33m=\u001b[0m \u001b[0mclf\u001b[0m\u001b[1;33m.\u001b[0m\u001b[0mcoef_\u001b[0m \u001b[1;33m+\u001b[0m \u001b[0mclf\u001b[0m\u001b[1;33m.\u001b[0m\u001b[0mintercept_\u001b[0m\u001b[1;33m\u001b[0m\u001b[1;33m\u001b[0m\u001b[0m\n\u001b[0;32m      4\u001b[0m \u001b[1;33m\u001b[0m\u001b[0m\n\u001b[0;32m      5\u001b[0m \u001b[0msquared_diff\u001b[0m \u001b[1;33m=\u001b[0m \u001b[1;33m(\u001b[0m\u001b[1;33m(\u001b[0m\u001b[0mreal_coef\u001b[0m\u001b[1;33m-\u001b[0m\u001b[0msyn9_coef\u001b[0m\u001b[1;33m)\u001b[0m\u001b[1;33m**\u001b[0m\u001b[1;36m2\u001b[0m\u001b[1;33m)\u001b[0m\u001b[1;33m.\u001b[0m\u001b[0msum\u001b[0m\u001b[1;33m(\u001b[0m\u001b[1;33m)\u001b[0m\u001b[1;33m\u001b[0m\u001b[1;33m\u001b[0m\u001b[0m\n",
      "\u001b[1;32mc:\\Users\\Artem\\Desktop\\General\\Biomed\\tests\\lib\\site-packages\\sklearn\\linear_model\\_logistic.py\u001b[0m in \u001b[0;36mfit\u001b[1;34m(self, X, y, sample_weight)\u001b[0m\n\u001b[0;32m   1556\u001b[0m                 \u001b[1;34m\" in the data, but the data contains only one\"\u001b[0m\u001b[1;33m\u001b[0m\u001b[1;33m\u001b[0m\u001b[0m\n\u001b[0;32m   1557\u001b[0m                 \u001b[1;34m\" class: %r\"\u001b[0m\u001b[1;33m\u001b[0m\u001b[1;33m\u001b[0m\u001b[0m\n\u001b[1;32m-> 1558\u001b[1;33m                 \u001b[1;33m%\u001b[0m \u001b[0mclasses_\u001b[0m\u001b[1;33m[\u001b[0m\u001b[1;36m0\u001b[0m\u001b[1;33m]\u001b[0m\u001b[1;33m\u001b[0m\u001b[1;33m\u001b[0m\u001b[0m\n\u001b[0m\u001b[0;32m   1559\u001b[0m             )\n\u001b[0;32m   1560\u001b[0m \u001b[1;33m\u001b[0m\u001b[0m\n",
      "\u001b[1;31mValueError\u001b[0m: This solver needs samples of at least 2 classes in the data, but the data contains only one class: 0"
     ]
    }
   ],
   "source": [
    "# clf.fit(syn9_X, syn9_y)\n",
    "# print(clf.coef_, clf.intercept_)\n",
    "# syn9_coef = clf.coef_ + clf.intercept_\n",
    "\n",
    "# squared_diff = ((real_coef-syn9_coef)**2).sum()\n",
    "# print(squared_diff)\n",
    "\n",
    "# print(real.score(syn9_X, syn9_y))"
   ]
  },
  {
   "cell_type": "code",
   "execution_count": null,
   "metadata": {},
   "outputs": [],
   "source": [
    "plt.figure(figsize=(30,10), dpi=300)\n",
    "\n",
    "columns = real.columns\n",
    "\n",
    "for i in range(len(columns)):\n",
    "    plt.scatter(columns[i], kl_gauscop_668[i][1], color='red', alpha=0.8)\n",
    "    plt.scatter(columns[i], kl_gauscop_5000[i][1], color='blue', alpha=0.8)\n",
    "\n",
    "    plt.scatter(columns[i], kl_ctgan_668[i][1], color='yellow', alpha=0.8)\n",
    "    plt.scatter(columns[i], kl_ctgan_5000[i][1], color='green', alpha=0.8)\n",
    "    \n",
    "    plt.scatter(columns[i], kl_tvae_668[i][1], color='orange', alpha=0.8)\n",
    "    plt.scatter(columns[i], kl_tvae_5000[i][1], color='pink', alpha=0.8)\n",
    "\n",
    "    plt.scatter(columns[i], kl_synthpop_668[i][1], color='grey', alpha=0.8)\n",
    "    plt.scatter(columns[i], kl_synthpop_5000[i][1], color='black', alpha=0.8)\n",
    "\n",
    "    #plt.scatter(columns[i], kl_syn9[i][1], color='cian', alpha=0.8)\n",
    "\n",
    "    plt.legend(['GaussianCopula_668', 'GaussianCopula_5000', 'CTGAN_668', 'CTGAN_5000', 'TVAE_668', 'TVAE_5000', 'Synthpop_668', 'Synthpop_5000'])\n",
    "    plt.xticks(rotation = 90)\n",
    "\n",
    "path = 'plots'          \n",
    "plt.savefig(f'{path}/kl_divergence.png')\n",
    "\n",
    "plt.show()"
   ]
  }
 ],
 "metadata": {
  "interpreter": {
   "hash": "5f71dd86c0594fcb865b5956a899e199808b5362b189b8cf9adaa9e2d9bbf475"
  },
  "kernelspec": {
   "display_name": "Python 3.7.9 ('tests': venv)",
   "language": "python",
   "name": "python3"
  },
  "language_info": {
   "codemirror_mode": {
    "name": "ipython",
    "version": 3
   },
   "file_extension": ".py",
   "mimetype": "text/x-python",
   "name": "python",
   "nbconvert_exporter": "python",
   "pygments_lexer": "ipython3",
   "version": "3.7.9"
  },
  "orig_nbformat": 4
 },
 "nbformat": 4,
 "nbformat_minor": 2
}
