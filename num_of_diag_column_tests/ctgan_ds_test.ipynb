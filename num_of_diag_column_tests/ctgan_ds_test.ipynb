{
 "cells": [
  {
   "cell_type": "code",
   "execution_count": 1,
   "metadata": {},
   "outputs": [],
   "source": [
    "import pandas as pd \n",
    "from scipy import stats \n",
    "import matplotlib.pyplot as plt"
   ]
  },
  {
   "cell_type": "code",
   "execution_count": 2,
   "metadata": {},
   "outputs": [],
   "source": [
    "real = pd.read_csv('datasets/kag_risk_factors_cervical_cancer.csv')\n",
    "syn = pd.read_csv('synData/synData_ctgan.csv')"
   ]
  },
  {
   "cell_type": "code",
   "execution_count": 3,
   "metadata": {},
   "outputs": [],
   "source": [
    "real_age = real['STDs: Number of diagnosis']\n",
    "syn_age = syn['STDs: Number of diagnosis']"
   ]
  },
  {
   "cell_type": "code",
   "execution_count": 4,
   "metadata": {},
   "outputs": [
    {
     "data": {
      "image/png": "[encoded data removed]",
      "text/plain": [
       "<Figure size 576x576 with 1 Axes>"
      ]
     },
     "metadata": {
      "needs_background": "light"
     },
     "output_type": "display_data"
    }
   ],
   "source": [
    "plt.figure(figsize=(8, 8))\n",
    "plt.hist(real_age, alpha=0.8, density=True)\n",
    "plt.hist(syn_age, alpha=0.5, density=True)\n",
    "plt.legend(labels=('Real STDs: Number of diagnosis', 'Syn STDs: Number of diagnosis'))\n",
    "plt.show()"
   ]
  },
  {
   "cell_type": "code",
   "execution_count": 5,
   "metadata": {},
   "outputs": [
    {
     "name": "stdout",
     "output_type": "stream",
     "text": [
      "Real vs Syn (Age Column)\n",
      "t-test:\n",
      "18.30510690635603 1.6543603352589567e-68\n",
      "*** Reject by t-test ***\n",
      "ks-test:\n",
      "0.3543123543123543 3.314383177021044e-48\n",
      "*** Reject by t-test ***\n",
      "\n",
      "\n"
     ]
    }
   ],
   "source": [
    "syn_t_val, syn_t_crit = stats.ttest_ind(real_age, syn_age)\n",
    "syn_ks_val, syn_ks_crit = stats.kstest(real_age, syn_age)\n",
    "\n",
    "print('Real vs Syn (STDs: Number of diagnosis Column)')\n",
    "print('t-test:')\n",
    "print(syn_t_val, syn_t_crit)\n",
    "if abs(syn_t_val) > syn_t_crit: print('*** Reject by t-test ***') \n",
    "else: print('*** Accept by t-test ***') \n",
    "\n",
    "print('ks-test:')\n",
    "print(syn_ks_val, syn_ks_crit)\n",
    "if syn_ks_val > syn_ks_crit: print('*** Reject by ks-test ***') \n",
    "else: print('*** Accept by ks-test ***') \n",
    "print('\\n')"
   ]
  },
  {
   "cell_type": "code",
   "execution_count": null,
   "metadata": {},
   "outputs": [],
   "source": [
    "# Create comparison tables"
   ]
  }
 ],
 "metadata": {
  "interpreter": {
   "hash": "5f71dd86c0594fcb865b5956a899e199808b5362b189b8cf9adaa9e2d9bbf475"
  },
  "kernelspec": {
   "display_name": "Python 3.7.9 ('tests': venv)",
   "language": "python",
   "name": "python3"
  },
  "language_info": {
   "codemirror_mode": {
    "name": "ipython",
    "version": 3
   },
   "file_extension": ".py",
   "mimetype": "text/x-python",
   "name": "python",
   "nbconvert_exporter": "python",
   "pygments_lexer": "ipython3",
   "version": "3.7.9"
  },
  "orig_nbformat": 4
 },
 "nbformat": 4,
 "nbformat_minor": 2
}
