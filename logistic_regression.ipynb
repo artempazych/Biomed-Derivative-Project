{
 "cells": [
  {
   "cell_type": "code",
   "execution_count": 55,
   "metadata": {},
   "outputs": [],
   "source": [
    "from sklearn.linear_model import LogisticRegression\n",
    "import pandas as pd\n",
    "from joblib import dump, load"
   ]
  },
  {
   "cell_type": "code",
   "execution_count": 56,
   "metadata": {},
   "outputs": [],
   "source": [
    "real = pd.read_csv('datasets/real_data.csv')\n",
    "gauscop_data = pd.read_csv('synCleanData/synCleanData_gauscop.csv')\n",
    "ctgan_data = pd.read_csv('synCleanData/synCleanData_ctgan.csv')\n",
    "tvae_data = pd.read_csv('synCleanData/synCleanData_tvae.csv')\n",
    "gauscop_5000_data = pd.read_csv('synCleanData/synCleanData_gauscop_5000.csv')\n",
    "ctgan_5000_data = pd.read_csv('synCleanData/synCleanData_ctgan_5000.csv')\n",
    "tvae_5000_data = pd.read_csv('synCleanData/synCleanData_tvae_5000.csv')"
   ]
  },
  {
   "cell_type": "code",
   "execution_count": 57,
   "metadata": {},
   "outputs": [],
   "source": [
    "real.drop('Unnamed: 0', axis=1, inplace=True)\n",
    "gauscop_data.drop('Unnamed: 0', axis=1, inplace=True)\n",
    "gauscop_data.drop('Unnamed: 0.1', axis=1, inplace=True)\n",
    "ctgan_data.drop('Unnamed: 0', axis=1, inplace=True)\n",
    "ctgan_data.drop('Unnamed: 0.1', axis=1, inplace=True)\n",
    "tvae_data.drop('Unnamed: 0', axis=1, inplace=True)\n",
    "tvae_data.drop('Unnamed: 0.1', axis=1, inplace=True)\n",
    "gauscop_5000_data.drop('Unnamed: 0', axis=1, inplace=True)\n",
    "gauscop_5000_data.drop('Unnamed: 0.1', axis=1, inplace=True)\n",
    "ctgan_5000_data.drop('Unnamed: 0', axis=1, inplace=True)\n",
    "ctgan_5000_data.drop('Unnamed: 0.1', axis=1, inplace=True)\n",
    "tvae_5000_data.drop('Unnamed: 0', axis=1, inplace=True)\n",
    "tvae_5000_data.drop('Unnamed: 0.1', axis=1, inplace=True)"
   ]
  },
  {
   "cell_type": "code",
   "execution_count": 58,
   "metadata": {},
   "outputs": [],
   "source": [
    "cols = real.columns"
   ]
  },
  {
   "cell_type": "code",
   "execution_count": 59,
   "metadata": {},
   "outputs": [],
   "source": [
    "real_X, real_y = real[cols[:-1]], real['Biopsy']\n",
    "gauscop_X, gauscop_y = gauscop_data[cols[:-1]], gauscop_data['Biopsy']\n",
    "ctgan_X, ctgan_y = ctgan_data[cols[:-1]], ctgan_data['Biopsy']\n",
    "tvae_X, tvae_y = tvae_data[cols[:-1]], tvae_data['Biopsy']\n",
    "gauscop_5000_X, gauscop_5000_y = gauscop_5000_data[cols[:-1]], gauscop_5000_data['Biopsy']\n",
    "ctgan_5000_X, ctgan_5000_y = ctgan_5000_data[cols[:-1]], ctgan_5000_data['Biopsy']\n",
    "tvae_5000_X, tvae_5000_y = tvae_5000_data[cols[:-1]], tvae_5000_data['Biopsy']"
   ]
  },
  {
   "cell_type": "code",
   "execution_count": 60,
   "metadata": {},
   "outputs": [],
   "source": [
    "clf = LogisticRegression(max_iter=1000)"
   ]
  },
  {
   "cell_type": "code",
   "execution_count": 61,
   "metadata": {},
   "outputs": [
    {
     "name": "stdout",
     "output_type": "stream",
     "text": [
      "[[ 8.89931899e-04  9.41869447e-02  6.84519594e-02 -6.81731166e-02\n",
      "   3.05902707e-01 -7.48111661e-03  1.42626066e-02 -1.15027245e-01\n",
      "   5.99064926e-02  1.26434939e-01  2.21472009e-02  7.46054524e-01\n",
      "   2.35214277e-02  6.78214277e-02  0.00000000e+00 -1.07059909e-01\n",
      "   8.40919691e-02 -8.66235028e-01 -2.19317579e-02  9.55749136e-01\n",
      "  -1.68122169e-02  0.00000000e+00  1.25705744e-01 -2.97631016e-02\n",
      "  -1.68044835e-01 -1.77941016e-01  3.21962985e-01  8.44919261e-01\n",
      "   3.97483502e-01  7.47735502e-01  9.27739031e-01  3.83799009e+00\n",
      "   8.55335493e-01]] [-5.87844618]\n"
     ]
    }
   ],
   "source": [
    "clf.fit(real_X, real_y)\n",
    "dump(clf, 'models/real.joblib') \n",
    "print(clf.coef_, clf.intercept_)"
   ]
  },
  {
   "cell_type": "code",
   "execution_count": 62,
   "metadata": {},
   "outputs": [
    {
     "name": "stdout",
     "output_type": "stream",
     "text": [
      "[[-0.10665671 -0.28435631  0.11015205  0.20402244  0.          0.06583636\n",
      "   0.02480075  0.60486846  0.17054221 -0.13672117  0.03042832 -0.67140828\n",
      "   1.09085017  0.20655363  0.          0.          0.          0.\n",
      "   0.          0.          0.          0.         -0.0257959   0.\n",
      "   0.          0.         -0.08710646  0.          0.83728468  0.18148961\n",
      "   0.66571339  2.77838596  0.        ]] [-4.15545944]\n"
     ]
    }
   ],
   "source": [
    "clf.fit(gauscop_X, gauscop_y)\n",
    "dump(clf, 'models/gauscop_data.joblib') \n",
    "print(clf.coef_, clf.intercept_)"
   ]
  },
  {
   "cell_type": "code",
   "execution_count": 63,
   "metadata": {},
   "outputs": [
    {
     "name": "stdout",
     "output_type": "stream",
     "text": [
      "[[-0.01860373  0.11619729  0.04199994  0.0440562   0.16681469 -0.02740605\n",
      "  -0.61116814 -0.11387744  0.02806444 -0.06007626 -0.01747687  0.23697501\n",
      "  -0.06050217  0.18641695  0.          0.29834339 -0.0080477  -0.33703841\n",
      "  -0.07347908 -0.15965565  0.72345947  0.         -0.67560135 -0.47978237\n",
      "  -0.1654671  -0.16483303 -0.15889833 -0.27856755  0.53123467  0.38529123\n",
      "   0.08315681  0.24664814  0.08025685]] [-2.61995475]\n"
     ]
    }
   ],
   "source": [
    "clf.fit(ctgan_X, ctgan_y)\n",
    "dump(clf, 'models/ctgan_data.joblib') \n",
    "print(clf.coef_, clf.intercept_)"
   ]
  },
  {
   "cell_type": "code",
   "execution_count": 64,
   "metadata": {},
   "outputs": [
    {
     "ename": "ValueError",
     "evalue": "This solver needs samples of at least 2 classes in the data, but the data contains only one class: 0",
     "output_type": "error",
     "traceback": [
      "\u001b[1;31m---------------------------------------------------------------------------\u001b[0m",
      "\u001b[1;31mValueError\u001b[0m                                Traceback (most recent call last)",
      "\u001b[1;32m~\\AppData\\Local\\Temp\\ipykernel_3888\\1835115338.py\u001b[0m in \u001b[0;36m<module>\u001b[1;34m\u001b[0m\n\u001b[1;32m----> 1\u001b[1;33m \u001b[0mclf\u001b[0m\u001b[1;33m.\u001b[0m\u001b[0mfit\u001b[0m\u001b[1;33m(\u001b[0m\u001b[0mtvae_X\u001b[0m\u001b[1;33m,\u001b[0m \u001b[0mtvae_y\u001b[0m\u001b[1;33m)\u001b[0m\u001b[1;33m\u001b[0m\u001b[1;33m\u001b[0m\u001b[0m\n\u001b[0m\u001b[0;32m      2\u001b[0m \u001b[0mdump\u001b[0m\u001b[1;33m(\u001b[0m\u001b[0mclf\u001b[0m\u001b[1;33m,\u001b[0m \u001b[1;34m'models/tvae_data.joblib'\u001b[0m\u001b[1;33m)\u001b[0m\u001b[1;33m\u001b[0m\u001b[1;33m\u001b[0m\u001b[0m\n\u001b[0;32m      3\u001b[0m \u001b[0mprint\u001b[0m\u001b[1;33m(\u001b[0m\u001b[0mclf\u001b[0m\u001b[1;33m.\u001b[0m\u001b[0mcoef_\u001b[0m\u001b[1;33m,\u001b[0m \u001b[0mclf\u001b[0m\u001b[1;33m.\u001b[0m\u001b[0mintercept_\u001b[0m\u001b[1;33m)\u001b[0m\u001b[1;33m\u001b[0m\u001b[1;33m\u001b[0m\u001b[0m\n",
      "\u001b[1;32mc:\\Users\\Artem\\Desktop\\General\\Biomed\\tests\\lib\\site-packages\\sklearn\\linear_model\\_logistic.py\u001b[0m in \u001b[0;36mfit\u001b[1;34m(self, X, y, sample_weight)\u001b[0m\n\u001b[0;32m   1556\u001b[0m                 \u001b[1;34m\" in the data, but the data contains only one\"\u001b[0m\u001b[1;33m\u001b[0m\u001b[1;33m\u001b[0m\u001b[0m\n\u001b[0;32m   1557\u001b[0m                 \u001b[1;34m\" class: %r\"\u001b[0m\u001b[1;33m\u001b[0m\u001b[1;33m\u001b[0m\u001b[0m\n\u001b[1;32m-> 1558\u001b[1;33m                 \u001b[1;33m%\u001b[0m \u001b[0mclasses_\u001b[0m\u001b[1;33m[\u001b[0m\u001b[1;36m0\u001b[0m\u001b[1;33m]\u001b[0m\u001b[1;33m\u001b[0m\u001b[1;33m\u001b[0m\u001b[0m\n\u001b[0m\u001b[0;32m   1559\u001b[0m             )\n\u001b[0;32m   1560\u001b[0m \u001b[1;33m\u001b[0m\u001b[0m\n",
      "\u001b[1;31mValueError\u001b[0m: This solver needs samples of at least 2 classes in the data, but the data contains only one class: 0"
     ]
    }
   ],
   "source": [
    "clf.fit(tvae_X, tvae_y)\n",
    "dump(clf, 'models/tvae_data.joblib')\n",
    "print(clf.coef_, clf.intercept_)"
   ]
  },
  {
   "cell_type": "code",
   "execution_count": null,
   "metadata": {},
   "outputs": [
    {
     "data": {
      "text/plain": [
       "['models/gauscop_5000_data.joblib']"
      ]
     },
     "execution_count": 50,
     "metadata": {},
     "output_type": "execute_result"
    }
   ],
   "source": [
    "clf.fit(gauscop_5000_X, gauscop_5000_y)\n",
    "dump(clf, 'models/gauscop_5000_data.joblib') \n",
    "print(clf.coef_, clf.intercept_)"
   ]
  },
  {
   "cell_type": "code",
   "execution_count": null,
   "metadata": {},
   "outputs": [
    {
     "data": {
      "text/plain": [
       "['models/ctgan_5000_data.joblib']"
      ]
     },
     "execution_count": 51,
     "metadata": {},
     "output_type": "execute_result"
    }
   ],
   "source": [
    "clf.fit(ctgan_5000_X, ctgan_5000_y)\n",
    "dump(clf, 'models/ctgan_5000_data.joblib') \n",
    "print(clf.coef_, clf.intercept_)"
   ]
  },
  {
   "cell_type": "code",
   "execution_count": null,
   "metadata": {},
   "outputs": [
    {
     "ename": "ValueError",
     "evalue": "This solver needs samples of at least 2 classes in the data, but the data contains only one class: 0",
     "output_type": "error",
     "traceback": [
      "\u001b[1;31m---------------------------------------------------------------------------\u001b[0m",
      "\u001b[1;31mValueError\u001b[0m                                Traceback (most recent call last)",
      "\u001b[1;32m~\\AppData\\Local\\Temp\\ipykernel_3888\\749908524.py\u001b[0m in \u001b[0;36m<module>\u001b[1;34m\u001b[0m\n\u001b[1;32m----> 1\u001b[1;33m \u001b[0mclf\u001b[0m\u001b[1;33m.\u001b[0m\u001b[0mfit\u001b[0m\u001b[1;33m(\u001b[0m\u001b[0mtvae_5000_X\u001b[0m\u001b[1;33m,\u001b[0m \u001b[0mtvae_5000_y\u001b[0m\u001b[1;33m)\u001b[0m\u001b[1;33m\u001b[0m\u001b[1;33m\u001b[0m\u001b[0m\n\u001b[0m\u001b[0;32m      2\u001b[0m \u001b[0mdump\u001b[0m\u001b[1;33m(\u001b[0m\u001b[0mclf\u001b[0m\u001b[1;33m,\u001b[0m \u001b[1;34m'models/tvae_5000_data.joblib'\u001b[0m\u001b[1;33m)\u001b[0m\u001b[1;33m\u001b[0m\u001b[1;33m\u001b[0m\u001b[0m\n",
      "\u001b[1;32mc:\\Users\\Artem\\Desktop\\General\\Biomed\\tests\\lib\\site-packages\\sklearn\\linear_model\\_logistic.py\u001b[0m in \u001b[0;36mfit\u001b[1;34m(self, X, y, sample_weight)\u001b[0m\n\u001b[0;32m   1556\u001b[0m                 \u001b[1;34m\" in the data, but the data contains only one\"\u001b[0m\u001b[1;33m\u001b[0m\u001b[1;33m\u001b[0m\u001b[0m\n\u001b[0;32m   1557\u001b[0m                 \u001b[1;34m\" class: %r\"\u001b[0m\u001b[1;33m\u001b[0m\u001b[1;33m\u001b[0m\u001b[0m\n\u001b[1;32m-> 1558\u001b[1;33m                 \u001b[1;33m%\u001b[0m \u001b[0mclasses_\u001b[0m\u001b[1;33m[\u001b[0m\u001b[1;36m0\u001b[0m\u001b[1;33m]\u001b[0m\u001b[1;33m\u001b[0m\u001b[1;33m\u001b[0m\u001b[0m\n\u001b[0m\u001b[0;32m   1559\u001b[0m             )\n\u001b[0;32m   1560\u001b[0m \u001b[1;33m\u001b[0m\u001b[0m\n",
      "\u001b[1;31mValueError\u001b[0m: This solver needs samples of at least 2 classes in the data, but the data contains only one class: 0"
     ]
    }
   ],
   "source": [
    "clf.fit(tvae_5000_X, tvae_5000_y)\n",
    "dump(clf, 'models/tvae_5000_data.joblib') \n",
    "print(clf.coef_, clf.intercept_)"
   ]
  },
  {
   "cell_type": "code",
   "execution_count": null,
   "metadata": {},
   "outputs": [],
   "source": []
  }
 ],
 "metadata": {
  "interpreter": {
   "hash": "5f71dd86c0594fcb865b5956a899e199808b5362b189b8cf9adaa9e2d9bbf475"
  },
  "kernelspec": {
   "display_name": "Python 3.7.9 ('tests': venv)",
   "language": "python",
   "name": "python3"
  },
  "language_info": {
   "codemirror_mode": {
    "name": "ipython",
    "version": 3
   },
   "file_extension": ".py",
   "mimetype": "text/x-python",
   "name": "python",
   "nbconvert_exporter": "python",
   "pygments_lexer": "ipython3",
   "version": "3.7.9"
  },
  "orig_nbformat": 4
 },
 "nbformat": 4,
 "nbformat_minor": 2
}
