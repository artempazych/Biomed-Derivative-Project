{
 "cells": [
  {
   "cell_type": "code",
   "execution_count": 48,
   "metadata": {},
   "outputs": [],
   "source": [
    "from sklearn.linear_model import LogisticRegression\n",
    "import pandas as pd\n",
    "from joblib import dump, load"
   ]
  },
  {
   "cell_type": "code",
   "execution_count": 49,
   "metadata": {},
   "outputs": [],
   "source": [
    "real = pd.read_csv('datasets/real_data.csv')\n",
    "gauscop_data = pd.read_csv('synCleanData/synCleanData_gauscop.csv')\n",
    "ctgan_data = pd.read_csv('synCleanData/synCleanData_ctgan.csv')\n",
    "tvae_data = pd.read_csv('synCleanData/synCleanData_tvae.csv')\n",
    "gauscop_5000_data = pd.read_csv('synCleanData/synCleanData_gauscop_5000.csv')\n",
    "ctgan_5000_data = pd.read_csv('synCleanData/synCleanData_ctgan_5000.csv')\n",
    "tvae_5000_data = pd.read_csv('synCleanData/synCleanData_tvae_5000.csv')"
   ]
  },
  {
   "cell_type": "code",
   "execution_count": 50,
   "metadata": {},
   "outputs": [],
   "source": [
    "real.drop('Unnamed: 0', axis=1, inplace=True)\n",
    "gauscop_data.drop('Unnamed: 0', axis=1, inplace=True)\n",
    "gauscop_data.drop('Unnamed: 0.1', axis=1, inplace=True)\n",
    "ctgan_data.drop('Unnamed: 0', axis=1, inplace=True)\n",
    "ctgan_data.drop('Unnamed: 0.1', axis=1, inplace=True)\n",
    "tvae_data.drop('Unnamed: 0', axis=1, inplace=True)\n",
    "tvae_data.drop('Unnamed: 0.1', axis=1, inplace=True)\n",
    "gauscop_5000_data.drop('Unnamed: 0', axis=1, inplace=True)\n",
    "gauscop_5000_data.drop('Unnamed: 0.1', axis=1, inplace=True)\n",
    "ctgan_5000_data.drop('Unnamed: 0', axis=1, inplace=True)\n",
    "ctgan_5000_data.drop('Unnamed: 0.1', axis=1, inplace=True)\n",
    "tvae_5000_data.drop('Unnamed: 0', axis=1, inplace=True)\n",
    "tvae_5000_data.drop('Unnamed: 0.1', axis=1, inplace=True)"
   ]
  },
  {
   "cell_type": "code",
   "execution_count": 51,
   "metadata": {},
   "outputs": [],
   "source": [
    "cols = real.columns"
   ]
  },
  {
   "cell_type": "code",
   "execution_count": 52,
   "metadata": {},
   "outputs": [],
   "source": [
    "real_X, real_y = real[cols[:-1]], real['Biopsy']\n",
    "gauscop_X, gauscop_y = gauscop_data[cols[:-1]], gauscop_data['Biopsy']\n",
    "ctgan_X, ctgan_y = ctgan_data[cols[:-1]], ctgan_data['Biopsy']\n",
    "tvae_X, tvae_y = tvae_data[cols[:-1]], tvae_data['Biopsy']\n",
    "gauscop_5000_X, gauscop_5000_y = gauscop_5000_data[cols[:-1]], gauscop_5000_data['Biopsy']\n",
    "ctgan_5000_X, ctgan_5000_y = ctgan_5000_data[cols[:-1]], ctgan_5000_data['Biopsy']\n",
    "tvae_5000_X, tvae_5000_y = tvae_5000_data[cols[:-1]], tvae_5000_data['Biopsy']"
   ]
  },
  {
   "cell_type": "code",
   "execution_count": 53,
   "metadata": {},
   "outputs": [],
   "source": [
    "real = LogisticRegression(max_iter=1000)\n",
    "clf = LogisticRegression(max_iter=1000)"
   ]
  },
  {
   "cell_type": "code",
   "execution_count": 54,
   "metadata": {},
   "outputs": [],
   "source": [
    "real.fit(real_X, real_y)\n",
    "dump(real, 'models/real.joblib') \n",
    "real_coef = real.coef_+ real.intercept_"
   ]
  },
  {
   "cell_type": "code",
   "execution_count": 58,
   "metadata": {},
   "outputs": [
    {
     "name": "stdout",
     "output_type": "stream",
     "text": [
      "95.46382071290806\n",
      "0.9520958083832335\n"
     ]
    }
   ],
   "source": [
    "clf.fit(gauscop_X, gauscop_y)\n",
    "dump(clf, 'models/gauscop_data.joblib') \n",
    "gauscop_coef = clf.coef_ + clf.intercept_\n",
    "\n",
    "squared_diff = ((real_coef-gauscop_coef)**2).sum()\n",
    "print(squared_diff)\n",
    "\n",
    "print(real.score(gauscop_X, gauscop_y))"
   ]
  },
  {
   "cell_type": "code",
   "execution_count": 59,
   "metadata": {},
   "outputs": [
    {
     "name": "stdout",
     "output_type": "stream",
     "text": [
      "309.5241641840648\n",
      "0.8338323353293413\n"
     ]
    }
   ],
   "source": [
    "clf.fit(ctgan_X, ctgan_y)\n",
    "dump(clf, 'models/ctgan_data.joblib') \n",
    "ctgan_coef = clf.coef_ + clf.intercept_\n",
    "\n",
    "squared_diff = ((real_coef-ctgan_coef)**2).sum()\n",
    "print(squared_diff)\n",
    "\n",
    "print(real.score(ctgan_X, ctgan_y))"
   ]
  },
  {
   "cell_type": "code",
   "execution_count": 57,
   "metadata": {},
   "outputs": [
    {
     "ename": "ValueError",
     "evalue": "This solver needs samples of at least 2 classes in the data, but the data contains only one class: 0",
     "output_type": "error",
     "traceback": [
      "\u001b[1;31m---------------------------------------------------------------------------\u001b[0m",
      "\u001b[1;31mValueError\u001b[0m                                Traceback (most recent call last)",
      "\u001b[1;32m~\\AppData\\Local\\Temp\\ipykernel_16176\\1835115338.py\u001b[0m in \u001b[0;36m<module>\u001b[1;34m\u001b[0m\n\u001b[1;32m----> 1\u001b[1;33m \u001b[0mclf\u001b[0m\u001b[1;33m.\u001b[0m\u001b[0mfit\u001b[0m\u001b[1;33m(\u001b[0m\u001b[0mtvae_X\u001b[0m\u001b[1;33m,\u001b[0m \u001b[0mtvae_y\u001b[0m\u001b[1;33m)\u001b[0m\u001b[1;33m\u001b[0m\u001b[1;33m\u001b[0m\u001b[0m\n\u001b[0m\u001b[0;32m      2\u001b[0m \u001b[0mdump\u001b[0m\u001b[1;33m(\u001b[0m\u001b[0mclf\u001b[0m\u001b[1;33m,\u001b[0m \u001b[1;34m'models/tvae_data.joblib'\u001b[0m\u001b[1;33m)\u001b[0m\u001b[1;33m\u001b[0m\u001b[1;33m\u001b[0m\u001b[0m\n\u001b[0;32m      3\u001b[0m \u001b[0mprint\u001b[0m\u001b[1;33m(\u001b[0m\u001b[0mclf\u001b[0m\u001b[1;33m.\u001b[0m\u001b[0mcoef_\u001b[0m\u001b[1;33m,\u001b[0m \u001b[0mclf\u001b[0m\u001b[1;33m.\u001b[0m\u001b[0mintercept_\u001b[0m\u001b[1;33m)\u001b[0m\u001b[1;33m\u001b[0m\u001b[1;33m\u001b[0m\u001b[0m\n",
      "\u001b[1;32mc:\\Users\\Artem\\Desktop\\General\\Biomed\\tests\\lib\\site-packages\\sklearn\\linear_model\\_logistic.py\u001b[0m in \u001b[0;36mfit\u001b[1;34m(self, X, y, sample_weight)\u001b[0m\n\u001b[0;32m   1556\u001b[0m                 \u001b[1;34m\" in the data, but the data contains only one\"\u001b[0m\u001b[1;33m\u001b[0m\u001b[1;33m\u001b[0m\u001b[0m\n\u001b[0;32m   1557\u001b[0m                 \u001b[1;34m\" class: %r\"\u001b[0m\u001b[1;33m\u001b[0m\u001b[1;33m\u001b[0m\u001b[0m\n\u001b[1;32m-> 1558\u001b[1;33m                 \u001b[1;33m%\u001b[0m \u001b[0mclasses_\u001b[0m\u001b[1;33m[\u001b[0m\u001b[1;36m0\u001b[0m\u001b[1;33m]\u001b[0m\u001b[1;33m\u001b[0m\u001b[1;33m\u001b[0m\u001b[0m\n\u001b[0m\u001b[0;32m   1559\u001b[0m             )\n\u001b[0;32m   1560\u001b[0m \u001b[1;33m\u001b[0m\u001b[0m\n",
      "\u001b[1;31mValueError\u001b[0m: This solver needs samples of at least 2 classes in the data, but the data contains only one class: 0"
     ]
    }
   ],
   "source": [
    "clf.fit(tvae_X, tvae_y)\n",
    "dump(clf, 'models/tvae_data.joblib')\n",
    "print(clf.coef_, clf.intercept_)"
   ]
  },
  {
   "cell_type": "code",
   "execution_count": 60,
   "metadata": {},
   "outputs": [
    {
     "name": "stdout",
     "output_type": "stream",
     "text": [
      "57.60170773418791\n",
      "0.9556\n"
     ]
    }
   ],
   "source": [
    "clf.fit(gauscop_5000_X, gauscop_5000_y)\n",
    "dump(clf, 'models/gauscop_5000_data.joblib') \n",
    "gauscop_5000_coef = clf.coef_ + clf.intercept_\n",
    "\n",
    "squared_diff = ((real_coef-gauscop_5000_coef)**2).sum()\n",
    "print(squared_diff)\n",
    "\n",
    "print(real.score(gauscop_5000_X, gauscop_5000_y))"
   ]
  },
  {
   "cell_type": "code",
   "execution_count": 61,
   "metadata": {},
   "outputs": [
    {
     "name": "stdout",
     "output_type": "stream",
     "text": [
      "600.7628171812698\n",
      "0.8222\n"
     ]
    }
   ],
   "source": [
    "clf.fit(ctgan_5000_X, ctgan_5000_y)\n",
    "dump(clf, 'models/ctgan_5000_data.joblib') \n",
    "ctgan_5000_coef = clf.coef_ + clf.intercept_\n",
    "\n",
    "squared_diff = ((real_coef-ctgan_5000_coef)**2).sum()\n",
    "print(squared_diff)\n",
    "\n",
    "print(real.score(ctgan_5000_X, ctgan_5000_y))"
   ]
  },
  {
   "cell_type": "code",
   "execution_count": null,
   "metadata": {},
   "outputs": [
    {
     "ename": "ValueError",
     "evalue": "This solver needs samples of at least 2 classes in the data, but the data contains only one class: 0",
     "output_type": "error",
     "traceback": [
      "\u001b[1;31m---------------------------------------------------------------------------\u001b[0m",
      "\u001b[1;31mValueError\u001b[0m                                Traceback (most recent call last)",
      "\u001b[1;32m~\\AppData\\Local\\Temp\\ipykernel_3888\\749908524.py\u001b[0m in \u001b[0;36m<module>\u001b[1;34m\u001b[0m\n\u001b[1;32m----> 1\u001b[1;33m \u001b[0mclf\u001b[0m\u001b[1;33m.\u001b[0m\u001b[0mfit\u001b[0m\u001b[1;33m(\u001b[0m\u001b[0mtvae_5000_X\u001b[0m\u001b[1;33m,\u001b[0m \u001b[0mtvae_5000_y\u001b[0m\u001b[1;33m)\u001b[0m\u001b[1;33m\u001b[0m\u001b[1;33m\u001b[0m\u001b[0m\n\u001b[0m\u001b[0;32m      2\u001b[0m \u001b[0mdump\u001b[0m\u001b[1;33m(\u001b[0m\u001b[0mclf\u001b[0m\u001b[1;33m,\u001b[0m \u001b[1;34m'models/tvae_5000_data.joblib'\u001b[0m\u001b[1;33m)\u001b[0m\u001b[1;33m\u001b[0m\u001b[1;33m\u001b[0m\u001b[0m\n",
      "\u001b[1;32mc:\\Users\\Artem\\Desktop\\General\\Biomed\\tests\\lib\\site-packages\\sklearn\\linear_model\\_logistic.py\u001b[0m in \u001b[0;36mfit\u001b[1;34m(self, X, y, sample_weight)\u001b[0m\n\u001b[0;32m   1556\u001b[0m                 \u001b[1;34m\" in the data, but the data contains only one\"\u001b[0m\u001b[1;33m\u001b[0m\u001b[1;33m\u001b[0m\u001b[0m\n\u001b[0;32m   1557\u001b[0m                 \u001b[1;34m\" class: %r\"\u001b[0m\u001b[1;33m\u001b[0m\u001b[1;33m\u001b[0m\u001b[0m\n\u001b[1;32m-> 1558\u001b[1;33m                 \u001b[1;33m%\u001b[0m \u001b[0mclasses_\u001b[0m\u001b[1;33m[\u001b[0m\u001b[1;36m0\u001b[0m\u001b[1;33m]\u001b[0m\u001b[1;33m\u001b[0m\u001b[1;33m\u001b[0m\u001b[0m\n\u001b[0m\u001b[0;32m   1559\u001b[0m             )\n\u001b[0;32m   1560\u001b[0m \u001b[1;33m\u001b[0m\u001b[0m\n",
      "\u001b[1;31mValueError\u001b[0m: This solver needs samples of at least 2 classes in the data, but the data contains only one class: 0"
     ]
    }
   ],
   "source": [
    "clf.fit(tvae_5000_X, tvae_5000_y)\n",
    "dump(clf, 'models/tvae_5000_data.joblib') \n",
    "print(clf.coef_, clf.intercept_)"
   ]
  },
  {
   "cell_type": "code",
   "execution_count": null,
   "metadata": {},
   "outputs": [],
   "source": []
  }
 ],
 "metadata": {
  "interpreter": {
   "hash": "5f71dd86c0594fcb865b5956a899e199808b5362b189b8cf9adaa9e2d9bbf475"
  },
  "kernelspec": {
   "display_name": "Python 3.7.9 ('tests': venv)",
   "language": "python",
   "name": "python3"
  },
  "language_info": {
   "codemirror_mode": {
    "name": "ipython",
    "version": 3
   },
   "file_extension": ".py",
   "mimetype": "text/x-python",
   "name": "python",
   "nbconvert_exporter": "python",
   "pygments_lexer": "ipython3",
   "version": "3.7.9"
  },
  "orig_nbformat": 4
 },
 "nbformat": 4,
 "nbformat_minor": 2
}
