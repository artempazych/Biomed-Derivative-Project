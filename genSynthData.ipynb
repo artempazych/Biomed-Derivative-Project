{
 "cells": [
  {
   "cell_type": "markdown",
   "metadata": {},
   "source": [
    "Here is where you create the synthetic datasets using synthPop and CTGAN.\n"
   ]
  },
  {
   "cell_type": "code",
   "execution_count": 3,
   "metadata": {},
   "outputs": [],
   "source": [
    "import pandas as pd\n",
    "from util.tools import *"
   ]
  },
  {
   "cell_type": "code",
   "execution_count": 4,
   "metadata": {},
   "outputs": [],
   "source": [
    "real = pd.read_csv('real_data.csv')"
   ]
  },
  {
   "cell_type": "code",
   "execution_count": 10,
   "metadata": {},
   "outputs": [
    {
     "name": "stderr",
     "output_type": "stream",
     "text": [
      "c:\\Users\\Artem\\Desktop\\General\\Biomed\\tests\\lib\\site-packages\\sklearn\\mixture\\_base.py:282: ConvergenceWarning: Initialization 1 did not converge. Try different init parameters, or increase max_iter, tol or check for degenerate data.\n",
      "  ConvergenceWarning,\n",
      "c:\\Users\\Artem\\Desktop\\General\\Biomed\\tests\\lib\\site-packages\\sklearn\\mixture\\_base.py:146: ConvergenceWarning: Number of distinct clusters (9) found smaller than n_clusters (10). Possibly due to duplicate points in X.\n",
      "  .fit(X)\n",
      "c:\\Users\\Artem\\Desktop\\General\\Biomed\\tests\\lib\\site-packages\\sklearn\\mixture\\_base.py:282: ConvergenceWarning: Initialization 1 did not converge. Try different init parameters, or increase max_iter, tol or check for degenerate data.\n",
      "  ConvergenceWarning,\n",
      "c:\\Users\\Artem\\Desktop\\General\\Biomed\\tests\\lib\\site-packages\\sklearn\\mixture\\_base.py:146: ConvergenceWarning: Number of distinct clusters (5) found smaller than n_clusters (10). Possibly due to duplicate points in X.\n",
      "  .fit(X)\n",
      "c:\\Users\\Artem\\Desktop\\General\\Biomed\\tests\\lib\\site-packages\\sklearn\\mixture\\_base.py:146: ConvergenceWarning: Number of distinct clusters (1) found smaller than n_clusters (10). Possibly due to duplicate points in X.\n",
      "  .fit(X)\n",
      "c:\\Users\\Artem\\Desktop\\General\\Biomed\\tests\\lib\\site-packages\\sklearn\\mixture\\_base.py:146: ConvergenceWarning: Number of distinct clusters (1) found smaller than n_clusters (10). Possibly due to duplicate points in X.\n",
      "  .fit(X)\n",
      "c:\\Users\\Artem\\Desktop\\General\\Biomed\\tests\\lib\\site-packages\\sklearn\\mixture\\_base.py:146: ConvergenceWarning: Number of distinct clusters (4) found smaller than n_clusters (10). Possibly due to duplicate points in X.\n",
      "  .fit(X)\n",
      "c:\\Users\\Artem\\Desktop\\General\\Biomed\\tests\\lib\\site-packages\\sklearn\\mixture\\_base.py:282: ConvergenceWarning: Initialization 1 did not converge. Try different init parameters, or increase max_iter, tol or check for degenerate data.\n",
      "  ConvergenceWarning,\n",
      "c:\\Users\\Artem\\Desktop\\General\\Biomed\\tests\\lib\\site-packages\\sklearn\\mixture\\_base.py:146: ConvergenceWarning: Number of distinct clusters (9) found smaller than n_clusters (10). Possibly due to duplicate points in X.\n",
      "  .fit(X)\n",
      "c:\\Users\\Artem\\Desktop\\General\\Biomed\\tests\\lib\\site-packages\\sklearn\\mixture\\_base.py:282: ConvergenceWarning: Initialization 1 did not converge. Try different init parameters, or increase max_iter, tol or check for degenerate data.\n",
      "  ConvergenceWarning,\n",
      "c:\\Users\\Artem\\Desktop\\General\\Biomed\\tests\\lib\\site-packages\\sklearn\\mixture\\_base.py:146: ConvergenceWarning: Number of distinct clusters (5) found smaller than n_clusters (10). Possibly due to duplicate points in X.\n",
      "  .fit(X)\n",
      "c:\\Users\\Artem\\Desktop\\General\\Biomed\\tests\\lib\\site-packages\\sklearn\\mixture\\_base.py:146: ConvergenceWarning: Number of distinct clusters (1) found smaller than n_clusters (10). Possibly due to duplicate points in X.\n",
      "  .fit(X)\n",
      "c:\\Users\\Artem\\Desktop\\General\\Biomed\\tests\\lib\\site-packages\\sklearn\\mixture\\_base.py:146: ConvergenceWarning: Number of distinct clusters (1) found smaller than n_clusters (10). Possibly due to duplicate points in X.\n",
      "  .fit(X)\n",
      "c:\\Users\\Artem\\Desktop\\General\\Biomed\\tests\\lib\\site-packages\\sklearn\\mixture\\_base.py:146: ConvergenceWarning: Number of distinct clusters (4) found smaller than n_clusters (10). Possibly due to duplicate points in X.\n",
      "  .fit(X)\n"
     ]
    }
   ],
   "source": [
    "gen_CTGAN(real)\n",
    "gen_CTGAN(real, n_samples=5000)"
   ]
  },
  {
   "cell_type": "code",
   "execution_count": 11,
   "metadata": {},
   "outputs": [
    {
     "name": "stderr",
     "output_type": "stream",
     "text": [
      "c:\\Users\\Artem\\Desktop\\General\\Biomed\\tests\\lib\\site-packages\\scipy\\stats\\_continuous_distns.py:639: RuntimeWarning: invalid value encountered in sqrt\n",
      "  sk = 2*(b-a)*np.sqrt(a + b + 1) / (a + b + 2) / np.sqrt(a*b)\n",
      "c:\\Users\\Artem\\Desktop\\General\\Biomed\\tests\\lib\\site-packages\\scipy\\optimize\\minpack.py:175: RuntimeWarning: The iteration is not making good progress, as measured by the \n",
      "  improvement from the last ten iterations.\n",
      "  warnings.warn(msg, RuntimeWarning)\n",
      "c:\\Users\\Artem\\Desktop\\General\\Biomed\\tests\\lib\\site-packages\\scipy\\stats\\_continuous_distns.py:5320: RuntimeWarning: divide by zero encountered in true_divide\n",
      "  return c**2 / (c**2 - n**2)\n",
      "c:\\Users\\Artem\\Desktop\\General\\Biomed\\tests\\lib\\site-packages\\scipy\\stats\\_distn_infrastructure.py:2606: RuntimeWarning: invalid value encountered in double_scalars\n",
      "  Lhat = muhat - Shat*mu\n",
      "c:\\Users\\Artem\\Desktop\\General\\Biomed\\tests\\lib\\site-packages\\scipy\\stats\\_continuous_distns.py:615: RuntimeWarning: divide by zero encountered in _beta_cdf\n",
      "  return _boost._beta_cdf(x, a, b)\n",
      "c:\\Users\\Artem\\Desktop\\General\\Biomed\\tests\\lib\\site-packages\\scipy\\optimize\\minpack.py:175: RuntimeWarning: The number of calls to function has reached maxfev = 600.\n",
      "  warnings.warn(msg, RuntimeWarning)\n",
      "c:\\Users\\Artem\\Desktop\\General\\Biomed\\tests\\lib\\site-packages\\scipy\\optimize\\minpack.py:175: RuntimeWarning: The iteration is not making good progress, as measured by the \n",
      "  improvement from the last five Jacobian evaluations.\n",
      "  warnings.warn(msg, RuntimeWarning)\n"
     ]
    }
   ],
   "source": [
    "gen_GaussianCopula(real)\n",
    "gen_GaussianCopula(real, n_samples=5000)"
   ]
  },
  {
   "cell_type": "code",
   "execution_count": 12,
   "metadata": {},
   "outputs": [
    {
     "name": "stderr",
     "output_type": "stream",
     "text": [
      "c:\\Users\\Artem\\Desktop\\General\\Biomed\\tests\\lib\\site-packages\\sklearn\\mixture\\_base.py:282: ConvergenceWarning: Initialization 1 did not converge. Try different init parameters, or increase max_iter, tol or check for degenerate data.\n",
      "  ConvergenceWarning,\n",
      "c:\\Users\\Artem\\Desktop\\General\\Biomed\\tests\\lib\\site-packages\\sklearn\\mixture\\_base.py:146: ConvergenceWarning: Number of distinct clusters (9) found smaller than n_clusters (10). Possibly due to duplicate points in X.\n",
      "  .fit(X)\n",
      "c:\\Users\\Artem\\Desktop\\General\\Biomed\\tests\\lib\\site-packages\\sklearn\\mixture\\_base.py:146: ConvergenceWarning: Number of distinct clusters (5) found smaller than n_clusters (10). Possibly due to duplicate points in X.\n",
      "  .fit(X)\n",
      "c:\\Users\\Artem\\Desktop\\General\\Biomed\\tests\\lib\\site-packages\\sklearn\\mixture\\_base.py:146: ConvergenceWarning: Number of distinct clusters (1) found smaller than n_clusters (10). Possibly due to duplicate points in X.\n",
      "  .fit(X)\n",
      "c:\\Users\\Artem\\Desktop\\General\\Biomed\\tests\\lib\\site-packages\\sklearn\\mixture\\_base.py:146: ConvergenceWarning: Number of distinct clusters (1) found smaller than n_clusters (10). Possibly due to duplicate points in X.\n",
      "  .fit(X)\n",
      "c:\\Users\\Artem\\Desktop\\General\\Biomed\\tests\\lib\\site-packages\\sklearn\\mixture\\_base.py:146: ConvergenceWarning: Number of distinct clusters (4) found smaller than n_clusters (10). Possibly due to duplicate points in X.\n",
      "  .fit(X)\n",
      "c:\\Users\\Artem\\Desktop\\General\\Biomed\\tests\\lib\\site-packages\\sklearn\\mixture\\_base.py:282: ConvergenceWarning: Initialization 1 did not converge. Try different init parameters, or increase max_iter, tol or check for degenerate data.\n",
      "  ConvergenceWarning,\n",
      "c:\\Users\\Artem\\Desktop\\General\\Biomed\\tests\\lib\\site-packages\\sklearn\\mixture\\_base.py:146: ConvergenceWarning: Number of distinct clusters (9) found smaller than n_clusters (10). Possibly due to duplicate points in X.\n",
      "  .fit(X)\n",
      "c:\\Users\\Artem\\Desktop\\General\\Biomed\\tests\\lib\\site-packages\\sklearn\\mixture\\_base.py:282: ConvergenceWarning: Initialization 1 did not converge. Try different init parameters, or increase max_iter, tol or check for degenerate data.\n",
      "  ConvergenceWarning,\n",
      "c:\\Users\\Artem\\Desktop\\General\\Biomed\\tests\\lib\\site-packages\\sklearn\\mixture\\_base.py:282: ConvergenceWarning: Initialization 1 did not converge. Try different init parameters, or increase max_iter, tol or check for degenerate data.\n",
      "  ConvergenceWarning,\n",
      "c:\\Users\\Artem\\Desktop\\General\\Biomed\\tests\\lib\\site-packages\\sklearn\\mixture\\_base.py:146: ConvergenceWarning: Number of distinct clusters (5) found smaller than n_clusters (10). Possibly due to duplicate points in X.\n",
      "  .fit(X)\n",
      "c:\\Users\\Artem\\Desktop\\General\\Biomed\\tests\\lib\\site-packages\\sklearn\\mixture\\_base.py:146: ConvergenceWarning: Number of distinct clusters (1) found smaller than n_clusters (10). Possibly due to duplicate points in X.\n",
      "  .fit(X)\n",
      "c:\\Users\\Artem\\Desktop\\General\\Biomed\\tests\\lib\\site-packages\\sklearn\\mixture\\_base.py:146: ConvergenceWarning: Number of distinct clusters (1) found smaller than n_clusters (10). Possibly due to duplicate points in X.\n",
      "  .fit(X)\n",
      "c:\\Users\\Artem\\Desktop\\General\\Biomed\\tests\\lib\\site-packages\\sklearn\\mixture\\_base.py:146: ConvergenceWarning: Number of distinct clusters (4) found smaller than n_clusters (10). Possibly due to duplicate points in X.\n",
      "  .fit(X)\n"
     ]
    }
   ],
   "source": [
    "gen_TVAE(real)\n",
    "gen_TVAE(real, n_samples=5000)"
   ]
  },
  {
   "cell_type": "code",
   "execution_count": 5,
   "metadata": {},
   "outputs": [
    {
     "name": "stdout",
     "output_type": "stream",
     "text": [
      "train_Age\n",
      "train_Number of sexual partners\n",
      "train_First sexual intercourse\n",
      "train_Num of pregnancies\n",
      "train_Smokes\n",
      "train_Smokes (years)\n",
      "train_Smokes (packs/year)\n",
      "train_Hormonal Contraceptives\n",
      "train_Hormonal Contraceptives (years)\n",
      "train_IUD\n",
      "train_IUD (years)\n",
      "train_STDs\n",
      "train_STDs (number)\n",
      "train_STDs:condylomatosis\n",
      "train_STDs:cervical condylomatosis\n",
      "train_STDs:vaginal condylomatosis\n",
      "train_STDs:vulvo-perineal condylomatosis\n",
      "train_STDs:syphilis\n",
      "train_STDs:pelvic inflammatory disease\n",
      "train_STDs:genital herpes\n",
      "train_STDs:molluscum contagiosum\n",
      "train_STDs:AIDS\n",
      "train_STDs:HIV\n",
      "train_STDs:Hepatitis B\n",
      "train_STDs:HPV\n",
      "train_STDs: Number of diagnosis\n",
      "train_Dx:Cancer\n",
      "train_Dx:CIN\n",
      "train_Dx:HPV\n",
      "train_Dx\n",
      "train_Hinselmann\n",
      "train_Schiller\n",
      "train_Citology\n",
      "train_Biopsy\n",
      "generate_Age\n",
      "generate_Number of sexual partners\n",
      "generate_First sexual intercourse\n",
      "generate_Num of pregnancies\n",
      "generate_Smokes\n",
      "generate_Smokes (years)\n",
      "generate_Smokes (packs/year)\n",
      "generate_Hormonal Contraceptives\n",
      "generate_Hormonal Contraceptives (years)\n",
      "generate_IUD\n",
      "generate_IUD (years)\n",
      "generate_STDs\n",
      "generate_STDs (number)\n",
      "generate_STDs:condylomatosis\n",
      "generate_STDs:cervical condylomatosis\n",
      "generate_STDs:vaginal condylomatosis\n",
      "generate_STDs:vulvo-perineal condylomatosis\n",
      "generate_STDs:syphilis\n",
      "generate_STDs:pelvic inflammatory disease\n",
      "generate_STDs:genital herpes\n",
      "generate_STDs:molluscum contagiosum\n",
      "generate_STDs:AIDS\n",
      "generate_STDs:HIV\n",
      "generate_STDs:Hepatitis B\n",
      "generate_STDs:HPV\n",
      "generate_STDs: Number of diagnosis\n",
      "generate_Dx:Cancer\n",
      "generate_Dx:CIN\n",
      "generate_Dx:HPV\n",
      "generate_Dx\n",
      "generate_Hinselmann\n",
      "generate_Schiller\n",
      "generate_Citology\n",
      "generate_Biopsy\n",
      "train_Age\n",
      "train_Number of sexual partners\n",
      "train_First sexual intercourse\n",
      "train_Num of pregnancies\n",
      "train_Smokes\n",
      "train_Smokes (years)\n",
      "train_Smokes (packs/year)\n",
      "train_Hormonal Contraceptives\n",
      "train_Hormonal Contraceptives (years)\n",
      "train_IUD\n",
      "train_IUD (years)\n",
      "train_STDs\n",
      "train_STDs (number)\n",
      "train_STDs:condylomatosis\n",
      "train_STDs:cervical condylomatosis\n",
      "train_STDs:vaginal condylomatosis\n",
      "train_STDs:vulvo-perineal condylomatosis\n",
      "train_STDs:syphilis\n",
      "train_STDs:pelvic inflammatory disease\n",
      "train_STDs:genital herpes\n",
      "train_STDs:molluscum contagiosum\n",
      "train_STDs:AIDS\n",
      "train_STDs:HIV\n",
      "train_STDs:Hepatitis B\n",
      "train_STDs:HPV\n",
      "train_STDs: Number of diagnosis\n",
      "train_Dx:Cancer\n",
      "train_Dx:CIN\n",
      "train_Dx:HPV\n",
      "train_Dx\n",
      "train_Hinselmann\n",
      "train_Schiller\n",
      "train_Citology\n",
      "train_Biopsy\n",
      "generate_Age\n",
      "generate_Number of sexual partners\n",
      "generate_First sexual intercourse\n",
      "generate_Num of pregnancies\n",
      "generate_Smokes\n",
      "generate_Smokes (years)\n",
      "generate_Smokes (packs/year)\n",
      "generate_Hormonal Contraceptives\n",
      "generate_Hormonal Contraceptives (years)\n",
      "generate_IUD\n",
      "generate_IUD (years)\n",
      "generate_STDs\n",
      "generate_STDs (number)\n",
      "generate_STDs:condylomatosis\n",
      "generate_STDs:cervical condylomatosis\n",
      "generate_STDs:vaginal condylomatosis\n",
      "generate_STDs:vulvo-perineal condylomatosis\n",
      "generate_STDs:syphilis\n",
      "generate_STDs:pelvic inflammatory disease\n",
      "generate_STDs:genital herpes\n",
      "generate_STDs:molluscum contagiosum\n",
      "generate_STDs:AIDS\n",
      "generate_STDs:HIV\n",
      "generate_STDs:Hepatitis B\n",
      "generate_STDs:HPV\n",
      "generate_STDs: Number of diagnosis\n",
      "generate_Dx:Cancer\n",
      "generate_Dx:CIN\n",
      "generate_Dx:HPV\n",
      "generate_Dx\n",
      "generate_Hinselmann\n",
      "generate_Schiller\n",
      "generate_Citology\n",
      "generate_Biopsy\n"
     ]
    }
   ],
   "source": [
    "gen_SynthPop(real)\n",
    "gen_SynthPop(real, n_samples=5000)"
   ]
  },
  {
   "cell_type": "code",
   "execution_count": null,
   "metadata": {},
   "outputs": [],
   "source": []
  }
 ],
 "metadata": {
  "interpreter": {
   "hash": "5f71dd86c0594fcb865b5956a899e199808b5362b189b8cf9adaa9e2d9bbf475"
  },
  "kernelspec": {
   "display_name": "Python 3.7.9 ('tests': venv)",
   "language": "python",
   "name": "python3"
  },
  "language_info": {
   "codemirror_mode": {
    "name": "ipython",
    "version": 3
   },
   "file_extension": ".py",
   "mimetype": "text/x-python",
   "name": "python",
   "nbconvert_exporter": "python",
   "pygments_lexer": "ipython3",
   "version": "3.7.9"
  },
  "orig_nbformat": 4
 },
 "nbformat": 4,
 "nbformat_minor": 2
}
