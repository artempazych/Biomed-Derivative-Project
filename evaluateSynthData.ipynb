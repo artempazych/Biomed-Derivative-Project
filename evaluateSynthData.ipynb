{
 "cells": [
  {
   "cell_type": "markdown",
   "metadata": {},
   "source": [
    "Here is where we evaluate the performance of the datasets. This is where the functions in metrics and plots get used."
   ]
  },
  {
   "cell_type": "markdown",
   "metadata": {},
   "source": [
    "needs to have plots. For instance, for the k-test, a bar plot of k-test accepted/rejected vs synthetic data generation method."
   ]
  },
  {
   "cell_type": "code",
   "execution_count": null,
   "metadata": {},
   "outputs": [],
   "source": []
  }
 ],
 "metadata": {
  "language_info": {
   "name": "python"
  },
  "orig_nbformat": 4
 },
 "nbformat": 4,
 "nbformat_minor": 2
}
