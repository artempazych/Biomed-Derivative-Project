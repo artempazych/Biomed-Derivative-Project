{
 "cells": [
  {
   "cell_type": "code",
   "execution_count": 2,
   "metadata": {},
   "outputs": [],
   "source": [
    "import numpy as np\n",
    "import scipy.stats as st"
   ]
  },
  {
   "cell_type": "code",
   "execution_count": 3,
   "metadata": {},
   "outputs": [
    {
     "name": "stdout",
     "output_type": "stream",
     "text": [
      "[-1.43954509 -1.19699258 -0.94147593 -0.79655054 -0.69362482 -0.64387844\n",
      " -0.53141931 -0.34822242 -0.18007478 -0.14214833 -0.08865177 -0.05435293\n",
      "  0.0207198   0.03098532  0.03555898  0.24908262  0.50164387  0.6583532\n",
      "  0.76554488  1.47119095]\n",
      "--------------------\n",
      "[0.11259657 0.15956646 0.17572672 0.30038823 0.47631238 0.55064116\n",
      " 0.68316043 0.76691619 0.90723124 0.9127083  0.96748724 0.99104598\n",
      " 1.12869582 1.35021561 1.39332386 1.43335706 1.51141644 1.65837099\n",
      " 1.73512407 1.93700873 2.16219937 2.17887638 2.19048965 2.3591624\n",
      " 3.39507217]\n",
      "--------------------\n",
      "[-1.43954509 -1.19699258 -0.94147593 -0.79655054 -0.69362482 -0.64387844\n",
      " -0.53141931 -0.34822242 -0.18007478 -0.14214833 -0.08865177 -0.05435293\n",
      "  0.0207198   0.03098532  0.03555898  0.11259657  0.15956646  0.17572672\n",
      "  0.24908262  0.30038823  0.47631238  0.50164387  0.55064116  0.6583532\n",
      "  0.68316043  0.76554488  0.76691619  0.90723124  0.9127083   0.96748724\n",
      "  0.99104598  1.12869582  1.35021561  1.39332386  1.43335706  1.47119095\n",
      "  1.51141644  1.65837099  1.73512407  1.93700873  2.16219937  2.17887638\n",
      "  2.19048965  2.3591624   3.39507217]\n",
      "----------------------------\n"
     ]
    }
   ],
   "source": [
    "# generate random samples from Normal Distribution and sort \n",
    "samp_a = np.sort(np.random.normal(loc=0.0, scale=1.0, size=20))\n",
    "print(samp_a)\n",
    "print(20*'-')\n",
    "\n",
    "# generate random samples from LogNormal Distribution and sort \n",
    "samp_b = np.sort(np.random.lognormal(mean=0.0, sigma=1.0, size=25))\n",
    "print(samp_b)\n",
    "print(20*'-')\n",
    "\n",
    "# concatenate and sort   \n",
    "samp_conc = np.sort(np.concatenate((samp_a, samp_b)))\n",
    "print(samp_conc)\n",
    "print(28*'-')\n",
    "\n"
   ]
  },
  {
   "cell_type": "code",
   "execution_count": 4,
   "metadata": {},
   "outputs": [],
   "source": [
    "# CDF of sample a\n",
    "samp_a_cdf = [np.round(st.percentileofscore(samp_a, value)/100, 1) for value in samp_conc]\n",
    "\n",
    "# CDF of sample b\n",
    "samp_b_cdf = [np.round(st.percentileofscore(samp_b, value)/100, 1) for value in samp_conc]\n",
    "\n",
    "# absolute difference \n",
    "samp_diff = np.abs(np.subtract(samp_a_cdf, samp_b_cdf))"
   ]
  },
  {
   "cell_type": "code",
   "execution_count": 5,
   "metadata": {},
   "outputs": [
    {
     "data": {
      "text/plain": [
       "'Reject'"
      ]
     },
     "execution_count": 5,
     "metadata": {},
     "output_type": "execute_result"
    }
   ],
   "source": [
    "D_n = max(samp_diff)\n",
    "D_crit = 1.36*np.sqrt(1/len(samp_a)+1/len(samp_b))\n",
    "'Reject' if D_crit < D_n else 'Accept'"
   ]
  },
  {
   "cell_type": "code",
   "execution_count": 6,
   "metadata": {},
   "outputs": [],
   "source": [
    "import pandas as pd"
   ]
  },
  {
   "cell_type": "code",
   "execution_count": 7,
   "metadata": {},
   "outputs": [
    {
     "name": "stdout",
     "output_type": "stream",
     "text": [
      "[0.1 0.  0.1 ... 0.2 0.2 0.2]\n",
      "0.20000000000000007 0.0502556559574239\n"
     ]
    },
    {
     "data": {
      "text/plain": [
       "'Reject'"
      ]
     },
     "execution_count": 7,
     "metadata": {},
     "output_type": "execute_result"
    }
   ],
   "source": [
    "real, syn = pd.read_csv('datasets/kag_risk_factors_cervical_cancer.csv'), pd.read_csv('datasets/synData.csv')\n",
    "real_age, syn_age = real['Age'], syn['Age']\n",
    "all_age = np.concatenate((real_age, syn_age))\n",
    "real_age_cdf = [np.round(st.percentileofscore(real_age, value)/100, 1) for value in all_age]\n",
    "syn_age_cdf = [np.round(st.percentileofscore(syn_age, value)/100, 1) for value in all_age]\n",
    "abs_diff = np.abs(np.subtract(real_age_cdf, syn_age_cdf))\n",
    "print(abs_diff)\n",
    "D_n = max(abs_diff)\n",
    "D_crit = 1.36*np.sqrt(1/len(real_age)+1/len(syn_age))\n",
    "print(D_n, D_crit)\n",
    "'Reject' if D_crit < D_n else 'Accept'"
   ]
  },
  {
   "cell_type": "code",
   "execution_count": 38,
   "metadata": {},
   "outputs": [],
   "source": [
    "def ks_test(real, syn):\n",
    "    all_data = np.concatenate((real, syn))\n",
    "    real_data_cdf = [np.round(st.percentileofscore(real, value)/100, 1) for value in all_data]\n",
    "    syn_data_cdf = [np.round(st.percentileofscore(syn, value)/100, 1) for value in all_data]\n",
    "    abs_diff = np.abs(np.subtract(real_data_cdf, syn_data_cdf))\n",
    "    D_n = max(abs_diff)\n",
    "    D_crit = 1.36*np.sqrt(1/len(real)+1/len(syn))\n",
    "\n",
    "    return D_n, D_crit"
   ]
  },
  {
   "cell_type": "code",
   "execution_count": 39,
   "metadata": {},
   "outputs": [
    {
     "data": {
      "text/plain": [
       "(array([ 575.,    0.,    0.,    0., 1847.,  381.,    0.,    0.,    0.,\n",
       "        3055.]),\n",
       " array([0.  , 0.02, 0.04, 0.06, 0.08, 0.1 , 0.12, 0.14, 0.16, 0.18, 0.2 ]),\n",
       " <BarContainer object of 10 artists>)"
      ]
     },
     "execution_count": 39,
     "metadata": {},
     "output_type": "execute_result"
    },
    {
     "data": {
      "image/png": "[encoded data removed]",
      "text/plain": [
       "<Figure size 432x288 with 1 Axes>"
      ]
     },
     "metadata": {
      "needs_background": "light"
     },
     "output_type": "display_data"
    }
   ],
   "source": [
    "import matplotlib.pyplot as plt \n",
    "\n",
    "plt.hist(abs_diff)"
   ]
  },
  {
   "cell_type": "code",
   "execution_count": 40,
   "metadata": {},
   "outputs": [],
   "source": [
    "real_age, syn_age = real['Age'], syn['Age']\n",
    "\n",
    "ks_tests = []\n",
    "\n",
    "for i in range(0, len(syn_age), 100):\n",
    "    test = ks_test(real_age, syn_age[i:i+100])\n",
    "    ks_tests.append([test[0], test[1]])"
   ]
  },
  {
   "cell_type": "code",
   "execution_count": null,
   "metadata": {},
   "outputs": [],
   "source": []
  },
  {
   "cell_type": "code",
   "execution_count": 41,
   "metadata": {},
   "outputs": [
    {
     "name": "stdout",
     "output_type": "stream",
     "text": [
      "     0         1\n",
      "0  0.3  0.143707\n",
      "1  0.1  0.143707\n",
      "2  0.3  0.143707\n",
      "3  0.2  0.143707\n",
      "4  0.3  0.143707\n",
      "0.23200000000000004 0.14370703168499083\n"
     ]
    },
    {
     "data": {
      "image/png": "[encoded data removed]",
      "text/plain": [
       "<Figure size 432x288 with 1 Axes>"
      ]
     },
     "metadata": {
      "needs_background": "light"
     },
     "output_type": "display_data"
    }
   ],
   "source": [
    "ks_tests_df = pd.DataFrame(ks_tests)\n",
    "print(ks_tests_df.head())\n",
    "\n",
    "plt.hist(ks_tests_df[0])\n",
    "\n",
    "mean_D_n, mean_D_crit = ks_tests_df[0].mean(), ks_tests_df[1].mean()\n",
    "print(mean_D_n, mean_D_crit)"
   ]
  },
  {
   "cell_type": "code",
   "execution_count": 33,
   "metadata": {},
   "outputs": [],
   "source": [
    "accept_reject = [] \n",
    "acc = 0\n",
    "rej = 0\n",
    "\n",
    "for test in ks_tests:\n",
    "    if test[0] < test[1]:\n",
    "        acc+=1\n",
    "        accept_reject.append('Accept')\n",
    "    else:\n",
    "        rej+=1\n",
    "        accept_reject.append('Reject')"
   ]
  },
  {
   "cell_type": "code",
   "execution_count": 34,
   "metadata": {},
   "outputs": [
    {
     "name": "stdout",
     "output_type": "stream",
     "text": [
      "33 17\n"
     ]
    }
   ],
   "source": [
    "print(acc, rej)"
   ]
  },
  {
   "cell_type": "code",
   "execution_count": null,
   "metadata": {},
   "outputs": [],
   "source": []
  }
 ],
 "metadata": {
  "interpreter": {
   "hash": "062e16f67e71236ba86efa995b0955715329a7a500c12bb14426c758a24bb489"
  },
  "kernelspec": {
   "display_name": "Python 3.7.9 64-bit ('tests': venv)",
   "language": "python",
   "name": "python3"
  },
  "language_info": {
   "codemirror_mode": {
    "name": "ipython",
    "version": 3
   },
   "file_extension": ".py",
   "mimetype": "text/x-python",
   "name": "python",
   "nbconvert_exporter": "python",
   "pygments_lexer": "ipython3",
   "version": "3.7.9"
  },
  "orig_nbformat": 4
 },
 "nbformat": 4,
 "nbformat_minor": 2
}
